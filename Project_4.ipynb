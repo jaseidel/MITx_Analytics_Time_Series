{
 "metadata": {
  "language_info": {
   "codemirror_mode": {
    "name": "ipython",
    "version": 3
   },
   "file_extension": ".py",
   "mimetype": "text/x-python",
   "name": "python",
   "nbconvert_exporter": "python",
   "pygments_lexer": "ipython3",
   "version": "3.8.8"
  },
  "orig_nbformat": 2,
  "kernelspec": {
   "name": "python388jvsc74a57bd0e4c6ce54e6d1ccff551279c9aafc06b78c48fd9e60d6b4e74c0583a74ec1d1f9",
   "display_name": "Python 3.8.8 64-bit ('miniconda3': conda)"
  },
  "metadata": {
   "interpreter": {
    "hash": "e4c6ce54e6d1ccff551279c9aafc06b78c48fd9e60d6b4e74c0583a74ec1d1f9"
   }
  }
 },
 "nbformat": 4,
 "nbformat_minor": 2,
 "cells": [
  {
   "cell_type": "code",
   "execution_count": 2,
   "metadata": {},
   "outputs": [],
   "source": [
    "import pandas as pd \n",
    "import numpy as np \n",
    "import sklearn"
   ]
  },
  {
   "cell_type": "code",
   "execution_count": 20,
   "metadata": {},
   "outputs": [],
   "source": [
    "co2 = pd.read_csv('./release_time_series_report_data/CO2.csv', skiprows=57, usecols=[3,4], names=['Date','CO2'])"
   ]
  },
  {
   "cell_type": "code",
   "execution_count": 21,
   "metadata": {},
   "outputs": [
    {
     "output_type": "execute_result",
     "data": {
      "text/plain": [
       "<bound method NDFrame.head of           Date     CO2\n",
       "0    1958.0411  -99.99\n",
       "1    1958.1260  -99.99\n",
       "2    1958.2027  315.70\n",
       "3    1958.2877  317.45\n",
       "4    1958.3699  317.51\n",
       "..         ...     ...\n",
       "739  2019.6219  410.08\n",
       "740  2019.7068  408.55\n",
       "741  2019.7890  -99.99\n",
       "742  2019.8740  -99.99\n",
       "743  2019.9562  -99.99\n",
       "\n",
       "[744 rows x 2 columns]>"
      ]
     },
     "metadata": {},
     "execution_count": 21
    }
   ],
   "source": [
    "co2.head"
   ]
  },
  {
   "cell_type": "code",
   "execution_count": null,
   "metadata": {},
   "outputs": [],
   "source": []
  }
 ]
}